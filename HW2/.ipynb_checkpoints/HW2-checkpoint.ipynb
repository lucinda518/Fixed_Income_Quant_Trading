{
 "cells": [
  {
   "cell_type": "code",
   "execution_count": 2,
   "metadata": {},
   "outputs": [],
   "source": [
    "import numpy as np\n",
    "import pandas as pd\n",
    "import matplotlib.pyplot as plt\n",
    "%matplotlib inline"
   ]
  },
  {
   "cell_type": "markdown",
   "metadata": {},
   "source": [
    "##### Download a panel of CMT rates into pandas dataframe & remove ‘1M column from the dataset"
   ]
  },
  {
   "cell_type": "code",
   "execution_count": 3,
   "metadata": {},
   "outputs": [
    {
     "data": {
      "text/html": [
       "<div>\n",
       "<style scoped>\n",
       "    .dataframe tbody tr th:only-of-type {\n",
       "        vertical-align: middle;\n",
       "    }\n",
       "\n",
       "    .dataframe tbody tr th {\n",
       "        vertical-align: top;\n",
       "    }\n",
       "\n",
       "    .dataframe thead th {\n",
       "        text-align: right;\n",
       "    }\n",
       "</style>\n",
       "<table border=\"1\" class=\"dataframe\">\n",
       "  <thead>\n",
       "    <tr style=\"text-align: right;\">\n",
       "      <th></th>\n",
       "      <th>3 MO</th>\n",
       "      <th>6 MO</th>\n",
       "      <th>1 YR</th>\n",
       "      <th>2 YR</th>\n",
       "      <th>3 YR</th>\n",
       "      <th>5 YR</th>\n",
       "      <th>7 YR</th>\n",
       "      <th>10 YR</th>\n",
       "      <th>20 YR</th>\n",
       "      <th>30 YR</th>\n",
       "    </tr>\n",
       "    <tr>\n",
       "      <th>Date</th>\n",
       "      <th></th>\n",
       "      <th></th>\n",
       "      <th></th>\n",
       "      <th></th>\n",
       "      <th></th>\n",
       "      <th></th>\n",
       "      <th></th>\n",
       "      <th></th>\n",
       "      <th></th>\n",
       "      <th></th>\n",
       "    </tr>\n",
       "  </thead>\n",
       "  <tbody>\n",
       "    <tr>\n",
       "      <th>2012-01-03</th>\n",
       "      <td>0.02</td>\n",
       "      <td>0.06</td>\n",
       "      <td>0.12</td>\n",
       "      <td>0.27</td>\n",
       "      <td>0.40</td>\n",
       "      <td>0.89</td>\n",
       "      <td>1.41</td>\n",
       "      <td>1.97</td>\n",
       "      <td>2.67</td>\n",
       "      <td>2.98</td>\n",
       "    </tr>\n",
       "    <tr>\n",
       "      <th>2012-01-04</th>\n",
       "      <td>0.02</td>\n",
       "      <td>0.06</td>\n",
       "      <td>0.12</td>\n",
       "      <td>0.25</td>\n",
       "      <td>0.40</td>\n",
       "      <td>0.89</td>\n",
       "      <td>1.43</td>\n",
       "      <td>2.00</td>\n",
       "      <td>2.71</td>\n",
       "      <td>3.03</td>\n",
       "    </tr>\n",
       "    <tr>\n",
       "      <th>2012-01-05</th>\n",
       "      <td>0.02</td>\n",
       "      <td>0.07</td>\n",
       "      <td>0.11</td>\n",
       "      <td>0.27</td>\n",
       "      <td>0.40</td>\n",
       "      <td>0.88</td>\n",
       "      <td>1.43</td>\n",
       "      <td>2.02</td>\n",
       "      <td>2.74</td>\n",
       "      <td>3.06</td>\n",
       "    </tr>\n",
       "    <tr>\n",
       "      <th>2012-01-06</th>\n",
       "      <td>0.02</td>\n",
       "      <td>0.05</td>\n",
       "      <td>0.12</td>\n",
       "      <td>0.25</td>\n",
       "      <td>0.40</td>\n",
       "      <td>0.86</td>\n",
       "      <td>1.40</td>\n",
       "      <td>1.98</td>\n",
       "      <td>2.70</td>\n",
       "      <td>3.02</td>\n",
       "    </tr>\n",
       "    <tr>\n",
       "      <th>2012-01-09</th>\n",
       "      <td>0.01</td>\n",
       "      <td>0.05</td>\n",
       "      <td>0.11</td>\n",
       "      <td>0.26</td>\n",
       "      <td>0.38</td>\n",
       "      <td>0.85</td>\n",
       "      <td>1.39</td>\n",
       "      <td>1.98</td>\n",
       "      <td>2.70</td>\n",
       "      <td>3.02</td>\n",
       "    </tr>\n",
       "  </tbody>\n",
       "</table>\n",
       "</div>"
      ],
      "text/plain": [
       "            3 MO  6 MO  1 YR  2 YR  3 YR  5 YR  7 YR  10 YR  20 YR  30 YR\n",
       "Date                                                                     \n",
       "2012-01-03  0.02  0.06  0.12  0.27  0.40  0.89  1.41   1.97   2.67   2.98\n",
       "2012-01-04  0.02  0.06  0.12  0.25  0.40  0.89  1.43   2.00   2.71   3.03\n",
       "2012-01-05  0.02  0.07  0.11  0.27  0.40  0.88  1.43   2.02   2.74   3.06\n",
       "2012-01-06  0.02  0.05  0.12  0.25  0.40  0.86  1.40   1.98   2.70   3.02\n",
       "2012-01-09  0.01  0.05  0.11  0.26  0.38  0.85  1.39   1.98   2.70   3.02"
      ]
     },
     "execution_count": 3,
     "metadata": {},
     "output_type": "execute_result"
    }
   ],
   "source": [
    "xl = pd.read_csv('CMT_Rates.csv')\n",
    "xl['Date'] = xl['Date'].apply(lambda dates: pd.datetime.strptime(dates, '%y/%m/%d'))\n",
    "xl = xl.set_index('Date')\n",
    "del xl['1 MO']\n",
    "xl_diff = xl.diff(periods=1).dropna()\n",
    "d1 = '2012-01-31'\n",
    "d2 = '2015-07-01'\n",
    "sample1 = xl[(xl.index > d1) & (xl.index < d2)]\n",
    "sample1_diff = xl_diff[(xl_diff.index > d1) & (xl_diff.index < d2)]\n",
    "xl.head()"
   ]
  },
  {
   "cell_type": "markdown",
   "metadata": {},
   "source": [
    "##### Perform PCA on the dataset using Sample1\n"
   ]
  },
  {
   "cell_type": "code",
   "execution_count": 4,
   "metadata": {},
   "outputs": [
    {
     "name": "stdout",
     "output_type": "stream",
     "text": [
      "% variance explained:\n",
      "[0.8757 0.9515 0.9656 0.9763 0.9826 0.988  0.9922 0.9953 0.9977 0.9999]\n"
     ]
    }
   ],
   "source": [
    "#PCA:\n",
    "from sklearn.decomposition import PCA\n",
    "pca = PCA(n_components=10)\n",
    "pca.fit(sample1_diff)\n",
    "vec=pca.components_\n",
    "var_ratio = np.cumsum(np.round(pca.explained_variance_ratio_, decimals=4))\n",
    "print ('% variance explained:')\n",
    "print (var_ratio)\n"
   ]
  },
  {
   "cell_type": "code",
   "execution_count": 5,
   "metadata": {},
   "outputs": [
    {
     "name": "stderr",
     "output_type": "stream",
     "text": [
      "/Users/lijinglan/anaconda3/lib/python3.6/site-packages/ipykernel_launcher.py:1: DeprecationWarning: \n",
      ".ix is deprecated. Please use\n",
      ".loc for label based indexing or\n",
      ".iloc for positional indexing\n",
      "\n",
      "See the documentation here:\n",
      "http://pandas.pydata.org/pandas-docs/stable/indexing.html#ix-indexer-is-deprecated\n",
      "  \"\"\"Entry point for launching an IPython kernel.\n",
      "/Users/lijinglan/anaconda3/lib/python3.6/site-packages/ipykernel_launcher.py:2: DeprecationWarning: \n",
      ".ix is deprecated. Please use\n",
      ".loc for label based indexing or\n",
      ".iloc for positional indexing\n",
      "\n",
      "See the documentation here:\n",
      "http://pandas.pydata.org/pandas-docs/stable/indexing.html#ix-indexer-is-deprecated\n",
      "  \n"
     ]
    }
   ],
   "source": [
    "d_1 = xl.ix['2016-11-08', :]\n",
    "d_2 = xl.ix['2016-11-09', :]\n",
    "diff = d_2-d_1"
   ]
  },
  {
   "cell_type": "code",
   "execution_count": 6,
   "metadata": {},
   "outputs": [
    {
     "data": {
      "text/plain": [
       "array([ 0.45798281, -0.0827244 ,  0.01117702,  0.00707272,  0.01782268,\n",
       "       -0.00944547,  0.01075965,  0.02248395,  0.00862655,  0.0055579 ])"
      ]
     },
     "execution_count": 6,
     "metadata": {},
     "output_type": "execute_result"
    }
   ],
   "source": [
    "factor = np.dot(vec, diff)\n",
    "factor"
   ]
  },
  {
   "cell_type": "code",
   "execution_count": 7,
   "metadata": {},
   "outputs": [],
   "source": [
    "# calculate the move explained by the first PCA factor, first 2 PCA factors, first 3 PCA factors\n",
    "st_factor=vec[0]*factor[0]\n",
    "nd_factor=st_factor+vec[1]*factor[1]\n",
    "rd_factor=nd_factor+vec[2]*factor[2]"
   ]
  },
  {
   "cell_type": "markdown",
   "metadata": {},
   "source": [
    "##### i.\tPlot CMT curve move vs the move explained by the first PCA factor, first 2 PCA factors, first 3 PCA factors"
   ]
  },
  {
   "cell_type": "code",
   "execution_count": 8,
   "metadata": {},
   "outputs": [
    {
     "data": {
      "text/plain": [
       "<matplotlib.legend.Legend at 0x1172e8c88>"
      ]
     },
     "execution_count": 8,
     "metadata": {},
     "output_type": "execute_result"
    },
    {
     "data": {
      "image/png": "[encoded data removed]",
      "text/plain": [
       "<matplotlib.figure.Figure at 0x117268518>"
      ]
     },
     "metadata": {},
     "output_type": "display_data"
    }
   ],
   "source": [
    "plt.figure(figsize=(20,10))\n",
    "plt.plot(diff.values,label='diff')\n",
    "plt.plot(st_factor,label='pca1')\n",
    "plt.plot(nd_factor,label='pca2')\n",
    "plt.plot(rd_factor,label='pca3')\n",
    "plt.legend()"
   ]
  },
  {
   "cell_type": "code",
   "execution_count": 9,
   "metadata": {},
   "outputs": [
    {
     "data": {
      "text/plain": [
       "<matplotlib.legend.Legend at 0x117a20f28>"
      ]
     },
     "execution_count": 9,
     "metadata": {},
     "output_type": "execute_result"
    },
    {
     "data": {
      "image/png": "[encoded data removed]",
      "text/plain": [
       "<matplotlib.figure.Figure at 0x11733aba8>"
      ]
     },
     "metadata": {},
     "output_type": "display_data"
    }
   ],
   "source": [
    "plt.figure(figsize=(20,10))\n",
    "plt.plot(diff.values+d_1.values,label='d2')\n",
    "plt.plot(st_factor+d_1.values,label='pca1')\n",
    "plt.plot(nd_factor+d_1.values,label='pca2')\n",
    "plt.plot(rd_factor+d_1.values,label='pca3')\n",
    "plt.legend()"
   ]
  },
  {
   "cell_type": "markdown",
   "metadata": {},
   "source": [
    "##### Explain your calculations and results"
   ]
  },
  {
   "cell_type": "markdown",
   "metadata": {},
   "source": [
    "I calculate each pca factor by calculating eigenvectors multiplying the move on the Election Day. Thus, I could get 10 factors. Then, I use method of first row of eigenvectors multiplying the first factor to get the move explained by first factor etc. \n",
    "From the graph, we could see that first three factors could describe yield curve very well. "
   ]
  },
  {
   "cell_type": "markdown",
   "metadata": {},
   "source": [
    "##### Compute weights of the WFLY to make sure that WFLY does not have PCA1,2 risk exposure in Sample1."
   ]
  },
  {
   "cell_type": "code",
   "execution_count": 10,
   "metadata": {},
   "outputs": [
    {
     "data": {
      "text/plain": [
       "array([0.54562615, 0.54208879])"
      ]
     },
     "execution_count": 10,
     "metadata": {},
     "output_type": "execute_result"
    }
   ],
   "source": [
    "a = np.array([[vec[0,5], vec[0,7]],[vec[1,5], vec[1,7]]])\n",
    "b = np.array([vec[0,6], vec[1,6]])\n",
    "weight = np.linalg.solve(a, b)\n",
    "weight"
   ]
  },
  {
   "cell_type": "markdown",
   "metadata": {},
   "source": [
    "##### Choose weights of the WFLY from cointegration analysis (weights correspond to the best cointegrated vector). "
   ]
  },
  {
   "cell_type": "code",
   "execution_count": 11,
   "metadata": {},
   "outputs": [
    {
     "name": "stderr",
     "output_type": "stream",
     "text": [
      "/Users/lijinglan/anaconda3/lib/python3.6/site-packages/statsmodels/compat/pandas.py:56: FutureWarning: The pandas.core.datetools module is deprecated and will be removed in a future version. Please use the pandas.tseries module instead.\n",
      "  from pandas.core import datetools\n"
     ]
    }
   ],
   "source": [
    "import pandas as pd\n",
    "import numpy as np\n",
    "import statsmodels.api as sm"
   ]
  },
  {
   "cell_type": "code",
   "execution_count": 12,
   "metadata": {},
   "outputs": [],
   "source": [
    "def CCA_Chou_Ng(data_set):\n",
    "    \n",
    "    #data_set is pandas dataframe\n",
    "    df_lag = data_set.shift(1).dropna()\n",
    "    df = data_set.drop(data_set.index[0]).dropna()\n",
    "    n = len(data_set.columns)\n",
    "    \n",
    "    #X(t) ~ M_1 + X(t-1)\n",
    "    X = df_lag.as_matrix()\n",
    "    X_I = sm.add_constant(X)\n",
    "    Y = df.as_matrix()\n",
    "    l1 = sm.OLS(Y,X_I).fit()\n",
    "    B=l1.params[1:(n+1)]\n",
    "    \n",
    "    #X(t-1) ~ M_2 + X(t)\n",
    "    Y_I = sm.add_constant(Y)\n",
    "    l2 = sm.OLS(X,Y_I).fit()\n",
    "    A=l2.params[1:(n+1)]\n",
    "    C = np.dot(A,B)\n",
    "    eig_val, eig_vec = np.linalg.eig(C)\n",
    "    return eig_val, eig_vec, C"
   ]
  },
  {
   "cell_type": "code",
   "execution_count": 13,
   "metadata": {},
   "outputs": [
    {
     "name": "stdout",
     "output_type": "stream",
     "text": [
      "[0.677873328702247, 0.45646563750083435]\n"
     ]
    },
    {
     "name": "stderr",
     "output_type": "stream",
     "text": [
      "/Users/lijinglan/anaconda3/lib/python3.6/site-packages/ipykernel_launcher.py:4: DeprecationWarning: \n",
      ".ix is deprecated. Please use\n",
      ".loc for label based indexing or\n",
      ".iloc for positional indexing\n",
      "\n",
      "See the documentation here:\n",
      "http://pandas.pydata.org/pandas-docs/stable/indexing.html#ix-indexer-is-deprecated\n",
      "  after removing the cwd from sys.path.\n",
      "/Users/lijinglan/anaconda3/lib/python3.6/site-packages/ipykernel_launcher.py:9: FutureWarning: Method .as_matrix will be removed in a future version. Use .values instead.\n",
      "  if __name__ == '__main__':\n",
      "/Users/lijinglan/anaconda3/lib/python3.6/site-packages/ipykernel_launcher.py:11: FutureWarning: Method .as_matrix will be removed in a future version. Use .values instead.\n",
      "  # This is added back by InteractiveShellApp.init_path()\n"
     ]
    }
   ],
   "source": [
    "legs = ['5 YR', '10 YR']\n",
    "belly = '7 YR'\n",
    "flylist = [legs[0], belly, legs[1]]\n",
    "fly=xl.ix['2012-02-01':'2015-06-30',flylist]\n",
    "df1 = fly\n",
    "n = len(df1.columns)\n",
    "val, vec1, C = CCA_Chou_Ng(df1)\n",
    "vec1 = pd.DataFrame(vec1)\n",
    "vec1 = vec1.rename(columns=lambda x: n-x-1, inplace=False)\n",
    "w = vec1[2].values\n",
    "w_cca_cn = [-w[0]/w[1],-w[2]/w[1]]\n",
    "print (w_cca_cn)"
   ]
  },
  {
   "cell_type": "markdown",
   "metadata": {},
   "source": [
    "##### Compute Half-Life & ADF statistic for WFLY2 using Sample1"
   ]
  },
  {
   "cell_type": "code",
   "execution_count": 14,
   "metadata": {},
   "outputs": [],
   "source": [
    "WFLY2 = sample1['5 YR']*w_cca_cn[0]-sample1['7 YR']+sample1['10 YR']*w_cca_cn[1]"
   ]
  },
  {
   "cell_type": "code",
   "execution_count": 15,
   "metadata": {},
   "outputs": [],
   "source": [
    "from statsmodels.tsa.stattools import adfuller\n",
    "def adf_hl(yields):\n",
    "    \"\"\"Calculate ADF test and Half-Life time.\n",
    "    :param price: A pandas.Series of data.  \n",
    "    :return: (adf test result, half-life, lookback)  \n",
    "    \"\"\"\n",
    "    # ADF test\n",
    "    adftest = adfuller(yields, maxlag=1)\n",
    "    # Half-Life\n",
    "    md = sm.OLS(yields.diff(), sm.add_constant(yields.shift()), missing='drop')\n",
    "    mdf = md.fit()\n",
    "    half_life = -np.log(2)/mdf.params[1]\n",
    "    return {\"adftest \":adftest,\"half_life\": half_life}"
   ]
  },
  {
   "cell_type": "code",
   "execution_count": 16,
   "metadata": {},
   "outputs": [
    {
     "data": {
      "text/plain": [
       "{'adftest ': (-6.26059501156954,\n",
       "  4.232765569026917e-08,\n",
       "  1,\n",
       "  853,\n",
       "  {'1%': -3.438039434877692,\n",
       "   '10%': -2.5685773775887872,\n",
       "   '5%': -2.8649342774762423},\n",
       "  -5996.5501398139795),\n",
       " 'half_life': 5.379105173450521}"
      ]
     },
     "execution_count": 16,
     "metadata": {},
     "output_type": "execute_result"
    }
   ],
   "source": [
    "adf_hl(WFLY2)"
   ]
  },
  {
   "cell_type": "markdown",
   "metadata": {},
   "source": [
    "##### out-of-sample: using 3m, 6m, 12m out of sample periods"
   ]
  },
  {
   "cell_type": "code",
   "execution_count": 25,
   "metadata": {},
   "outputs": [],
   "source": [
    "\n",
    "WFLY2_3mo = xl.loc['2015-07-01':'2015-09-30','5 YR']*w_cca_cn[0]-xl.loc['2015-07-01':'2015-09-30','7 YR']+xl.loc['2015-07-01':'2015-09-30','10 YR']*w_cca_cn[1]\n",
    "WFLY2_6mo = xl.loc['2015-07-01':'2015-12-31','5 YR']*w_cca_cn[0]-xl.loc['2015-07-01':'2015-12-31','7 YR']+xl.loc['2015-07-01':'2015-12-31','10 YR']*w_cca_cn[1]\n",
    "WFLY2_12mo = xl.loc['2015-07-01':'2016-6-30','5 YR']*w_cca_cn[0]-xl.loc['2015-07-01':'2016-6-30','7 YR']+xl.loc['2015-07-01':'2016-6-30','10 YR']*w_cca_cn[1]\n",
    "\n"
   ]
  },
  {
   "cell_type": "code",
   "execution_count": 24,
   "metadata": {},
   "outputs": [
    {
     "data": {
      "text/plain": [
       "{'adftest ': (-2.6861259499571415,\n",
       "  0.07647000970616363,\n",
       "  0,\n",
       "  63,\n",
       "  {'1%': -3.5386953618719676,\n",
       "   '10%': -2.591896782564878,\n",
       "   '5%': -2.9086446751210775},\n",
       "  -433.84599647275456),\n",
       " 'half_life': 3.2495477475545993}"
      ]
     },
     "execution_count": 24,
     "metadata": {},
     "output_type": "execute_result"
    }
   ],
   "source": [
    "adf_hl(WFLY2_3mo)"
   ]
  },
  {
   "cell_type": "code",
   "execution_count": 26,
   "metadata": {},
   "outputs": [
    {
     "data": {
      "text/plain": [
       "{'adftest ': (-3.0723683181568577,\n",
       "  0.02866679201734769,\n",
       "  1,\n",
       "  124,\n",
       "  {'1%': -3.484219653271961,\n",
       "   '10%': -2.579359138917794,\n",
       "   '5%': -2.885145235641637},\n",
       "  -852.6074036915327),\n",
       " 'half_life': 2.909335156600203}"
      ]
     },
     "execution_count": 26,
     "metadata": {},
     "output_type": "execute_result"
    }
   ],
   "source": [
    "adf_hl(WFLY2_6mo)"
   ]
  },
  {
   "cell_type": "code",
   "execution_count": 27,
   "metadata": {},
   "outputs": [
    {
     "data": {
      "text/plain": [
       "{'adftest ': (-2.5703646496728823,\n",
       "  0.09927827538834466,\n",
       "  1,\n",
       "  249,\n",
       "  {'1%': -3.4568881317725864,\n",
       "   '10%': -2.5729936189738876,\n",
       "   '5%': -2.8732185133016057},\n",
       "  -1694.8794183615412),\n",
       " 'half_life': 5.327746228194244}"
      ]
     },
     "execution_count": 27,
     "metadata": {},
     "output_type": "execute_result"
    }
   ],
   "source": [
    "adf_hl(WFLY2_12mo)"
   ]
  },
  {
   "cell_type": "markdown",
   "metadata": {},
   "source": [
    "##### conclusion: when out of sample period increases, the time series tend to become more likely to be nonstationary and the half life tends to increase"
   ]
  },
  {
   "cell_type": "code",
   "execution_count": null,
   "metadata": {},
   "outputs": [],
   "source": []
  }
 ],
 "metadata": {
  "kernelspec": {
   "display_name": "Python 3",
   "language": "python",
   "name": "python3"
  },
  "language_info": {
   "codemirror_mode": {
    "name": "ipython",
    "version": 3
   },
   "file_extension": ".py",
   "mimetype": "text/x-python",
   "name": "python",
   "nbconvert_exporter": "python",
   "pygments_lexer": "ipython3",
   "version": "3.6.4"
  }
 },
 "nbformat": 4,
 "nbformat_minor": 2
}
